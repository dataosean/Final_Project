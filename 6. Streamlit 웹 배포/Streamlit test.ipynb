{
 "cells": [
  {
   "cell_type": "markdown",
   "metadata": {},
   "source": [
    "# #Streamlit 제작 노트북: 두 좌표간의 km 구하기 함수"
   ]
  },
  {
   "cell_type": "code",
   "execution_count": 17,
   "metadata": {},
   "outputs": [
    {
     "name": "stdout",
     "output_type": "stream",
     "text": [
      "두 지점 사이의 거리는 0.355231522703946km 입니다.\n"
     ]
    }
   ],
   "source": [
    "import math\n",
    "\n",
    "def haversine(lat1, lon1, lat2, lon2):\n",
    "    # 위도와 경도를 라디안으로 변환\n",
    "    lat1, lon1, lat2, lon2 = map(math.radians, [lat1, lon1, lat2, lon2])\n",
    "\n",
    "    # 위도와 경도 차이\n",
    "    dlat = lat2 - lat1\n",
    "    dlon = lon2 - lon1\n",
    "\n",
    "    # Haversine 공식\n",
    "    a = math.sin(dlat/2)**2 + math.cos(lat1) * math.cos(lat2) * math.sin(dlon/2)**2\n",
    "    c = 2 * math.asin(math.sqrt(a))\n",
    "\n",
    "    # 지구 반지름 (킬로미터)\n",
    "    R = 6371.0\n",
    "\n",
    "    # 결과 거리\n",
    "    distance = R * c\n",
    "\n",
    "    return distance\n",
    "\n",
    "# 사용 예시\n",
    "lat1, lon1 = (37.514575, 127.0495556) # 사용자 위치\n",
    "lat2, lon2 = (37.517235, 127.047325) # 빵집 위치\n",
    "\n",
    "distance = haversine(lat1, lon1, lat2, lon2)\n",
    "print(f\"두 지점 사이의 거리는 {distance}km 입니다.\")"
   ]
  },
  {
   "cell_type": "markdown",
   "metadata": {},
   "source": [
    "# Streamlit test code: 원하는 텍스트 추출"
   ]
  },
  {
   "cell_type": "code",
   "execution_count": null,
   "metadata": {},
   "outputs": [],
   "source": [
    "import pandas as pd\n",
    "text_file = pd.read_csv('streamlit_text(04.23).csv')\n",
    "mode_file = pd.read_csv('streamlit_mode(04.23).csv')"
   ]
  },
  {
   "cell_type": "code",
   "execution_count": 58,
   "metadata": {},
   "outputs": [
    {
     "data": {
      "text/plain": [
       "2                처음에는 라떼가. 맛있었는데ᆢ왜맛이 변한거죠???다시 원래대로 만들어주세요\n",
       "12       충무로점 화장실 없대서 어디 쓰면 되냐 했더니 안내할 수 있는 화장실 없다함ㅋ 너무...\n",
       "24       뭔가 내부가 어수선한 느낌이에요 .. 에어컨 시원하고좋았지만 화장실이 없어서 .. ...\n",
       "26       매번 느끼는거지만 커피는 맛있는데 일하시는분들 너 무 느긋합니다. 오전에 파이3개랑...\n",
       "29       아메리카노가 무척 저렴한 카페 ~ 날이 더워 잠깐 방문한건데.. 매장에 화장실이 없...\n",
       "                               ...                        \n",
       "15183    맛에 관한 후기에 앞서 확실히 친절함은 부족했습니다. 빵 5개를 샀는데 빵만 포장해...\n",
       "15184    단팥빵은 맛나는데  오전 근무자가 빵 맛을 맛없게 만드네요 왕불친절하고 인사도 없고...\n",
       "15186    룰렛 이벤트 해놓고 당첨되니까 모르는 척 안줌 ㅋㅋ 슬쩍 말해도 모른척 하길래 추럽...\n",
       "15190              단팥크림빵은 정말 맛있습니다 그런데 사장으로 보이는 분…불친절 절레절레\n",
       "15205    이런 쿠키가 새로 생겨서 넘 좋아요.. 뉴욕 르뱅쿠키 를 여기서 맛볼 수 있다니요....\n",
       "Name: Review_text, Length: 1462, dtype: object"
      ]
     },
     "execution_count": 58,
     "metadata": {},
     "output_type": "execute_result"
    }
   ],
   "source": [
    "Review_text = text_file[['Store','Review_text','sentiment']]\n",
    "cond3 = (Review_text['sentiment']==1)\n",
    "cond4 = (Review_text['sentiment']==0)\n",
    "Review_text['Review_text'][cond3]"
   ]
  },
  {
   "cell_type": "code",
   "execution_count": 3,
   "metadata": {},
   "outputs": [
    {
     "data": {
      "text/plain": [
       "0         5센소커피충무로점\n",
       "1      79파운야드을지로3가점\n",
       "3              Cre8\n",
       "5      KSPOT수국전망대카페\n",
       "7            가배도시청점\n",
       "           ...     \n",
       "202             혜민당\n",
       "203             홍밀밀\n",
       "205             화수분\n",
       "206         화수분약수본점\n",
       "207            황소쿠키\n",
       "Name: Store, Length: 148, dtype: object"
      ]
     },
     "execution_count": 3,
     "metadata": {},
     "output_type": "execute_result"
    }
   ],
   "source": [
    "mode_file[mode_file['cluster']==0]['Store']"
   ]
  },
  {
   "cell_type": "code",
   "execution_count": 41,
   "metadata": {},
   "outputs": [],
   "source": [
    "random_store = mode_file[mode_file['cluster'] == 0]['Store'].sample(n=9)"
   ]
  },
  {
   "cell_type": "code",
   "execution_count": 42,
   "metadata": {},
   "outputs": [
    {
     "data": {
      "text/plain": [
       "'성원푸드몰'"
      ]
     },
     "execution_count": 42,
     "metadata": {},
     "output_type": "execute_result"
    }
   ],
   "source": [
    "random_store.iloc[0]"
   ]
  },
  {
   "cell_type": "code",
   "execution_count": 43,
   "metadata": {},
   "outputs": [
    {
     "data": {
      "text/plain": [
       "'와플대학명보사거리캠퍼스'"
      ]
     },
     "execution_count": 43,
     "metadata": {},
     "output_type": "execute_result"
    }
   ],
   "source": [
    "random_store.iloc[1]"
   ]
  },
  {
   "cell_type": "code",
   "execution_count": 47,
   "metadata": {},
   "outputs": [],
   "source": [
    "store_name = [random_store.iloc[i] for i in range(9)]"
   ]
  },
  {
   "cell_type": "code",
   "execution_count": 48,
   "metadata": {},
   "outputs": [
    {
     "data": {
      "text/plain": [
       "'성원푸드몰'"
      ]
     },
     "execution_count": 48,
     "metadata": {},
     "output_type": "execute_result"
    }
   ],
   "source": [
    "store_name[0]"
   ]
  },
  {
   "cell_type": "code",
   "execution_count": 50,
   "metadata": {},
   "outputs": [
    {
     "data": {
      "text/html": [
       "<div>\n",
       "<style scoped>\n",
       "    .dataframe tbody tr th:only-of-type {\n",
       "        vertical-align: middle;\n",
       "    }\n",
       "\n",
       "    .dataframe tbody tr th {\n",
       "        vertical-align: top;\n",
       "    }\n",
       "\n",
       "    .dataframe thead th {\n",
       "        text-align: right;\n",
       "    }\n",
       "</style>\n",
       "<table border=\"1\" class=\"dataframe\">\n",
       "  <thead>\n",
       "    <tr style=\"text-align: right;\">\n",
       "      <th></th>\n",
       "      <th>Unnamed: 0</th>\n",
       "      <th>Store</th>\n",
       "      <th>cluster</th>\n",
       "      <th>cluster_labeling</th>\n",
       "      <th>Review_text</th>\n",
       "      <th>Review_score</th>\n",
       "      <th>sentiment</th>\n",
       "      <th>Address</th>\n",
       "      <th>X</th>\n",
       "      <th>Y</th>\n",
       "      <th>행정동명</th>\n",
       "    </tr>\n",
       "  </thead>\n",
       "  <tbody>\n",
       "    <tr>\n",
       "      <th>0</th>\n",
       "      <td>0</td>\n",
       "      <td>5센소커피충무로점</td>\n",
       "      <td>0</td>\n",
       "      <td>빵 맛이 좀 그래요...</td>\n",
       "      <td>여름엔 아아지!!!</td>\n",
       "      <td>4.3</td>\n",
       "      <td>1</td>\n",
       "      <td>서울 중구 퇴계로27길 35 1층</td>\n",
       "      <td>126.991228</td>\n",
       "      <td>37.562741</td>\n",
       "      <td>필동</td>\n",
       "    </tr>\n",
       "    <tr>\n",
       "      <th>1</th>\n",
       "      <td>1</td>\n",
       "      <td>5센소커피충무로점</td>\n",
       "      <td>2</td>\n",
       "      <td>가성비 맛집이에요!</td>\n",
       "      <td>커피 맛있었어요~! 키오스크 주문이라 편리하고 레몬쿠키도 촉촉하니 새콤달콤 했어요~!</td>\n",
       "      <td>4.3</td>\n",
       "      <td>1</td>\n",
       "      <td>서울 중구 퇴계로27길 35 1층</td>\n",
       "      <td>126.991228</td>\n",
       "      <td>37.562741</td>\n",
       "      <td>필동</td>\n",
       "    </tr>\n",
       "    <tr>\n",
       "      <th>2</th>\n",
       "      <td>2</td>\n",
       "      <td>5센소커피충무로점</td>\n",
       "      <td>0</td>\n",
       "      <td>빵 맛이 좀 그래요...</td>\n",
       "      <td>처음에는 라떼가. 맛있었는데ᆢ왜맛이 변한거죠???다시 원래대로 만들어주세요</td>\n",
       "      <td>4.3</td>\n",
       "      <td>0</td>\n",
       "      <td>서울 중구 퇴계로27길 35 1층</td>\n",
       "      <td>126.991228</td>\n",
       "      <td>37.562741</td>\n",
       "      <td>필동</td>\n",
       "    </tr>\n",
       "  </tbody>\n",
       "</table>\n",
       "</div>"
      ],
      "text/plain": [
       "   Unnamed: 0      Store  cluster cluster_labeling  \\\n",
       "0           0  5센소커피충무로점        0    빵 맛이 좀 그래요...   \n",
       "1           1  5센소커피충무로점        2       가성비 맛집이에요!   \n",
       "2           2  5센소커피충무로점        0    빵 맛이 좀 그래요...   \n",
       "\n",
       "                                       Review_text  Review_score  sentiment  \\\n",
       "0                                       여름엔 아아지!!!           4.3          1   \n",
       "1  커피 맛있었어요~! 키오스크 주문이라 편리하고 레몬쿠키도 촉촉하니 새콤달콤 했어요~!           4.3          1   \n",
       "2        처음에는 라떼가. 맛있었는데ᆢ왜맛이 변한거죠???다시 원래대로 만들어주세요           4.3          0   \n",
       "\n",
       "              Address           X          Y 행정동명  \n",
       "0  서울 중구 퇴계로27길 35 1층  126.991228  37.562741   필동  \n",
       "1  서울 중구 퇴계로27길 35 1층  126.991228  37.562741   필동  \n",
       "2  서울 중구 퇴계로27길 35 1층  126.991228  37.562741   필동  "
      ]
     },
     "execution_count": 50,
     "metadata": {},
     "output_type": "execute_result"
    }
   ],
   "source": [
    "text_file[:3]"
   ]
  },
  {
   "cell_type": "code",
   "execution_count": 33,
   "metadata": {},
   "outputs": [
    {
     "data": {
      "text/html": [
       "<div>\n",
       "<style scoped>\n",
       "    .dataframe tbody tr th:only-of-type {\n",
       "        vertical-align: middle;\n",
       "    }\n",
       "\n",
       "    .dataframe tbody tr th {\n",
       "        vertical-align: top;\n",
       "    }\n",
       "\n",
       "    .dataframe thead th {\n",
       "        text-align: right;\n",
       "    }\n",
       "</style>\n",
       "<table border=\"1\" class=\"dataframe\">\n",
       "  <thead>\n",
       "    <tr style=\"text-align: right;\">\n",
       "      <th></th>\n",
       "      <th>X</th>\n",
       "      <th>Y</th>\n",
       "    </tr>\n",
       "    <tr>\n",
       "      <th>Store</th>\n",
       "      <th></th>\n",
       "      <th></th>\n",
       "    </tr>\n",
       "  </thead>\n",
       "  <tbody>\n",
       "    <tr>\n",
       "      <th>5센소커피충무로점</th>\n",
       "      <td>126.991228</td>\n",
       "      <td>37.562741</td>\n",
       "    </tr>\n",
       "    <tr>\n",
       "      <th>79파운야드을지로3가점</th>\n",
       "      <td>126.989468</td>\n",
       "      <td>37.565645</td>\n",
       "    </tr>\n",
       "    <tr>\n",
       "      <th>AboutBagel</th>\n",
       "      <td>126.983155</td>\n",
       "      <td>37.564582</td>\n",
       "    </tr>\n",
       "    <tr>\n",
       "      <th>Cre8</th>\n",
       "      <td>126.985245</td>\n",
       "      <td>37.567375</td>\n",
       "    </tr>\n",
       "    <tr>\n",
       "      <th>ERICKAYSER</th>\n",
       "      <td>126.978128</td>\n",
       "      <td>37.564656</td>\n",
       "    </tr>\n",
       "    <tr>\n",
       "      <th>...</th>\n",
       "      <td>...</td>\n",
       "      <td>...</td>\n",
       "    </tr>\n",
       "    <tr>\n",
       "      <th>홍밀밀</th>\n",
       "      <td>126.986829</td>\n",
       "      <td>37.563298</td>\n",
       "    </tr>\n",
       "    <tr>\n",
       "      <th>화미가신세계백화점본점</th>\n",
       "      <td>126.980768</td>\n",
       "      <td>37.560354</td>\n",
       "    </tr>\n",
       "    <tr>\n",
       "      <th>화수분</th>\n",
       "      <td>37.553381</td>\n",
       "      <td>127.009485</td>\n",
       "    </tr>\n",
       "    <tr>\n",
       "      <th>화수분약수본점</th>\n",
       "      <td>127.009485</td>\n",
       "      <td>37.553381</td>\n",
       "    </tr>\n",
       "    <tr>\n",
       "      <th>황소쿠키</th>\n",
       "      <td>126.966234</td>\n",
       "      <td>37.560416</td>\n",
       "    </tr>\n",
       "  </tbody>\n",
       "</table>\n",
       "<p>208 rows × 2 columns</p>\n",
       "</div>"
      ],
      "text/plain": [
       "                       X           Y\n",
       "Store                               \n",
       "5센소커피충무로점     126.991228   37.562741\n",
       "79파운야드을지로3가점  126.989468   37.565645\n",
       "AboutBagel    126.983155   37.564582\n",
       "Cre8          126.985245   37.567375\n",
       "ERICKAYSER    126.978128   37.564656\n",
       "...                  ...         ...\n",
       "홍밀밀           126.986829   37.563298\n",
       "화미가신세계백화점본점   126.980768   37.560354\n",
       "화수분            37.553381  127.009485\n",
       "화수분약수본점       127.009485   37.553381\n",
       "황소쿠키          126.966234   37.560416\n",
       "\n",
       "[208 rows x 2 columns]"
      ]
     },
     "execution_count": 33,
     "metadata": {},
     "output_type": "execute_result"
    }
   ],
   "source": [
    "latlon = text_file.groupby('Store').first()[['X', 'Y']]\n",
    "latlon"
   ]
  },
  {
   "cell_type": "code",
   "execution_count": 34,
   "metadata": {},
   "outputs": [
    {
     "data": {
      "text/plain": [
       "126.9852451"
      ]
     },
     "execution_count": 34,
     "metadata": {},
     "output_type": "execute_result"
    }
   ],
   "source": [
    "cond1 = (latlon.index == 'Cre8')\n",
    "latlon[cond1].iloc[0].values[0]"
   ]
  },
  {
   "cell_type": "code",
   "execution_count": 4,
   "metadata": {},
   "outputs": [
    {
     "data": {
      "text/plain": [
       "4.3"
      ]
     },
     "execution_count": 4,
     "metadata": {},
     "output_type": "execute_result"
    }
   ],
   "source": [
    "information = text_file.groupby('Store').first()[['Review_score','Address','행정동명']]\n",
    "cond1 = (information.index == 'Cre8')\n",
    "information[cond1].iloc[0].values[0] # 평점, 주소, 행정동"
   ]
  },
  {
   "cell_type": "code",
   "execution_count": 6,
   "metadata": {},
   "outputs": [
    {
     "data": {
      "text/html": [
       "<div>\n",
       "<style scoped>\n",
       "    .dataframe tbody tr th:only-of-type {\n",
       "        vertical-align: middle;\n",
       "    }\n",
       "\n",
       "    .dataframe tbody tr th {\n",
       "        vertical-align: top;\n",
       "    }\n",
       "\n",
       "    .dataframe thead th {\n",
       "        text-align: right;\n",
       "    }\n",
       "</style>\n",
       "<table border=\"1\" class=\"dataframe\">\n",
       "  <thead>\n",
       "    <tr style=\"text-align: right;\">\n",
       "      <th></th>\n",
       "      <th>이름</th>\n",
       "      <th>평점</th>\n",
       "      <th>행정동</th>\n",
       "      <th>주소</th>\n",
       "    </tr>\n",
       "  </thead>\n",
       "  <tbody>\n",
       "    <tr>\n",
       "      <th>0</th>\n",
       "      <td>5센소커피충무로점</td>\n",
       "      <td>4.3</td>\n",
       "      <td>명동</td>\n",
       "      <td>서울 중구 을지로5길 26 미래에셋 센터원 지하1층</td>\n",
       "    </tr>\n",
       "  </tbody>\n",
       "</table>\n",
       "</div>"
      ],
      "text/plain": [
       "          이름   평점 행정동                            주소\n",
       "0  5센소커피충무로점  4.3  명동  서울 중구 을지로5길 26 미래에셋 센터원 지하1층"
      ]
     },
     "execution_count": 6,
     "metadata": {},
     "output_type": "execute_result"
    }
   ],
   "source": [
    "df = pd.DataFrame({\n",
    "    '이름': [information.index[0]],\n",
    "    '평점': [information[cond1].iloc[0].values[0]],\n",
    "    '행정동': [information[cond1].iloc[0].values[2]],\n",
    "    '주소': [information[cond1].iloc[0].values[1]]\n",
    "})\n",
    "df"
   ]
  },
  {
   "cell_type": "code",
   "execution_count": 12,
   "metadata": {},
   "outputs": [
    {
     "data": {
      "text/html": [
       "<style type=\"text/css\">\n",
       "</style>\n",
       "<table id=\"T_0ed56\">\n",
       "  <thead>\n",
       "    <tr>\n",
       "      <th id=\"T_0ed56_level0_col0\" class=\"col_heading level0 col0\" >Review_text</th>\n",
       "    </tr>\n",
       "  </thead>\n",
       "  <tbody>\n",
       "    <tr>\n",
       "      <td id=\"T_0ed56_row0_col0\" class=\"data row0 col0\" >여름엔 아아지!!!</td>\n",
       "    </tr>\n",
       "    <tr>\n",
       "      <td id=\"T_0ed56_row1_col0\" class=\"data row1 col0\" >커피 맛있었어요~! 키오스크 주문이라 편리하고 레몬쿠키도 촉촉하니 새콤달콤 했어요~!</td>\n",
       "    </tr>\n",
       "    <tr>\n",
       "      <td id=\"T_0ed56_row2_col0\" class=\"data row2 col0\" >처음에는 라떼가. 맛있었는데ᆢ왜맛이 변한거죠???다시 원래대로 만들어주세요</td>\n",
       "    </tr>\n",
       "    <tr>\n",
       "      <td id=\"T_0ed56_row3_col0\" class=\"data row3 col0\" >아메리카노 와인 아이스 테이크아웃.더위를 날려 주는 아아</td>\n",
       "    </tr>\n",
       "    <tr>\n",
       "      <td id=\"T_0ed56_row4_col0\" class=\"data row4 col0\" >매장이 고급스럽고 깔끔해요커피도 5가지중에 고를수 있고 가격도 저렴한데 맛은 진짜 좋아요 👍 👍 허니버터 소금빵안에 호떡꿀 같은데 들어있는데 달달하니 아메랑 먹기 아주 좋네요</td>\n",
       "    </tr>\n",
       "    <tr>\n",
       "      <td id=\"T_0ed56_row5_col0\" class=\"data row5 col0\" >가성비 내용물 모두 최고에요~양도 많아서 너무 좋아요~</td>\n",
       "    </tr>\n",
       "    <tr>\n",
       "      <td id=\"T_0ed56_row6_col0\" class=\"data row6 col0\" >아까운 창가자리좌석 더 만들어주세요</td>\n",
       "    </tr>\n",
       "    <tr>\n",
       "      <td id=\"T_0ed56_row7_col0\" class=\"data row7 col0\" >아이스 아메리카노(다크초콜릿)아이스 딥더블초코청키초코수프림쿠키, 이탈리안 레몬쿠키5센소커피 인테리어도 깔끔하고커피 디저트 너무 맛있어요.^^</td>\n",
       "    </tr>\n",
       "    <tr>\n",
       "      <td id=\"T_0ed56_row8_col0\" class=\"data row8 col0\" >시그니쳐 메뉴 센소피넛버터가맛있어요~! 아메리카노도 종류가 다양해서 좋아요</td>\n",
       "    </tr>\n",
       "    <tr>\n",
       "      <td id=\"T_0ed56_row9_col0\" class=\"data row9 col0\" >커피가 맛있어서 좋아요</td>\n",
       "    </tr>\n",
       "    <tr>\n",
       "      <td id=\"T_0ed56_row10_col0\" class=\"data row10 col0\" >2천원에 맛있는 가향 아메리카노를 즐길 수 있는 곳매장도 깔끔해서 좋아요</td>\n",
       "    </tr>\n",
       "    <tr>\n",
       "      <td id=\"T_0ed56_row11_col0\" class=\"data row11 col0\" >카페 분위기 멋지고 커피 가성비 좋아요!</td>\n",
       "    </tr>\n",
       "    <tr>\n",
       "      <td id=\"T_0ed56_row12_col0\" class=\"data row12 col0\" >충무로점 화장실 없대서 어디 쓰면 되냐 했더니 안내할 수 있는 화장실 없다함ㅋ 너무 불친절 다신 안감</td>\n",
       "    </tr>\n",
       "    <tr>\n",
       "      <td id=\"T_0ed56_row13_col0\" class=\"data row13 col0\" >커피 맛있네요! 아아보단 뜨아가 더 좋았음 ㅎ 가게 분위기 깔끔하고 괜찮아요</td>\n",
       "    </tr>\n",
       "    <tr>\n",
       "      <td id=\"T_0ed56_row14_col0\" class=\"data row14 col0\" >충무로에 직장이 있어 자주 애용하는 매장입니다.</td>\n",
       "    </tr>\n",
       "    <tr>\n",
       "      <td id=\"T_0ed56_row15_col0\" class=\"data row15 col0\" >그럴듯해 보여서 들어갔어요. 아아에 파이해서 4천이면 나쁘지는 않은데 자리는 묘하게 불편하네요.</td>\n",
       "    </tr>\n",
       "    <tr>\n",
       "      <td id=\"T_0ed56_row16_col0\" class=\"data row16 col0\" >아메리카노는 가성비최고인데 와인 아메리카노는 비추네요.</td>\n",
       "    </tr>\n",
       "    <tr>\n",
       "      <td id=\"T_0ed56_row17_col0\" class=\"data row17 col0\" >커피 맛나요</td>\n",
       "    </tr>\n",
       "    <tr>\n",
       "      <td id=\"T_0ed56_row18_col0\" class=\"data row18 col0\" >근처 고래사진관 현상소 들렀다가 들른 카페입니다.아메리카노 가격이 정말 착했어요.아메리카노(애플망고) 2,500원아메리카노(센소블렌드 ) 4,500원커피 쉐이크 5,300원다른 음료는 보통의 가격입니다.분위기는 좋았고, 에어컨이 워낙 빵빵하게 틀어져 있어 쉐이크 마신 저는 추웠어요... 😅여긴 화장실이 없다고 합니다.저희도 못 갔고, 다른 손님들도 물어봤지만 화장실 없다는 소리에 당황하신듯... 😂저희는 음료 마시고 지하철 역으로 달려가 화장실 이용했어요.혹시 화장실 이용하시려는 분은 참고하세요.</td>\n",
       "    </tr>\n",
       "    <tr>\n",
       "      <td id=\"T_0ed56_row19_col0\" class=\"data row19 col0\" >5센소 커피아이스아메리카노~</td>\n",
       "    </tr>\n",
       "    <tr>\n",
       "      <td id=\"T_0ed56_row20_col0\" class=\"data row20 col0\" >원두 종류가 5가지나 있어서 선택의 폭이 넓네요마카다미아로 골랐는데 고소한 단맛이 느껴져서 신기했습니다플랫화이트, 카페라떼 거품도 훌륭합니다다음 번엔 시그니처 음료도 마셔보고 싶네요👍</td>\n",
       "    </tr>\n",
       "    <tr>\n",
       "      <td id=\"T_0ed56_row21_col0\" class=\"data row21 col0\" >커피가 정말 맛있어요~</td>\n",
       "    </tr>\n",
       "    <tr>\n",
       "      <td id=\"T_0ed56_row22_col0\" class=\"data row22 col0\" >조용히 커피한잔하기 좋은곳~</td>\n",
       "    </tr>\n",
       "    <tr>\n",
       "      <td id=\"T_0ed56_row23_col0\" class=\"data row23 col0\" >커피가 저렴한데도 불구하고 정말 맛이 있습니당!</td>\n",
       "    </tr>\n",
       "    <tr>\n",
       "      <td id=\"T_0ed56_row24_col0\" class=\"data row24 col0\" >뭔가 내부가 어수선한 느낌이에요 .. 에어컨 시원하고좋았지만 화장실이 없어서 .. 멀리 가야하는게 큰 단점입니다 😭</td>\n",
       "    </tr>\n",
       "    <tr>\n",
       "      <td id=\"T_0ed56_row25_col0\" class=\"data row25 col0\" >커피 5가지</td>\n",
       "    </tr>\n",
       "    <tr>\n",
       "      <td id=\"T_0ed56_row26_col0\" class=\"data row26 col0\" >매번 느끼는거지만 커피는 맛있는데 일하시는분들 너 무 느긋합니다. 오전에 파이3개랑 커피3잔 주문 했 는데 사무실 와서 보니 봉투에 파이2개 ㅡㅡ 출...</td>\n",
       "    </tr>\n",
       "    <tr>\n",
       "      <td id=\"T_0ed56_row27_col0\" class=\"data row27 col0\" >커피맛있어요</td>\n",
       "    </tr>\n",
       "    <tr>\n",
       "      <td id=\"T_0ed56_row28_col0\" class=\"data row28 col0\" >조아요 가격갠춘</td>\n",
       "    </tr>\n",
       "    <tr>\n",
       "      <td id=\"T_0ed56_row29_col0\" class=\"data row29 col0\" >아메리카노가 무척 저렴한 카페 ~ 날이 더워 잠깐 방문한건데.. 매장에 화장실이 없는 아쉬움이 있습니다.</td>\n",
       "    </tr>\n",
       "    <tr>\n",
       "      <td id=\"T_0ed56_row30_col0\" class=\"data row30 col0\" >커피는 맛있는데 컵에 표기할때 손을 컵 안으로 넣어서 정리하시네요 장갑 따로 착용하지 읺으셔서 청결해 보이진 않습니다 가성비는 최고입니다 맛있구요</td>\n",
       "    </tr>\n",
       "    <tr>\n",
       "      <td id=\"T_0ed56_row31_col0\" class=\"data row31 col0\" >가성비가 좋은 카페다!</td>\n",
       "    </tr>\n",
       "    <tr>\n",
       "      <td id=\"T_0ed56_row32_col0\" class=\"data row32 col0\" >아메+피나콜라다+레몬쿠키..아메 마카다미아 꼬수워요~ 양만쿠 가성비 굿!피나콜라다는 좀 맹하네요..파인애플맛 약하고 코코넛 맛이 좀더 나는편..비추..레몬쿠키..여기만 있다해서 기대감으로 시켰는데..겉에 레몬코팅 살짝되어 있고 흰가루 덕지덕지..상콤한 레몬 찐맛 기대했는데 넘 부실하네요..돈아깝..그냥 소금빵 먹을껄..쩝..</td>\n",
       "    </tr>\n",
       "    <tr>\n",
       "      <td id=\"T_0ed56_row33_col0\" class=\"data row33 col0\" >가성비 최고</td>\n",
       "    </tr>\n",
       "    <tr>\n",
       "      <td id=\"T_0ed56_row34_col0\" class=\"data row34 col0\" >애플만고 커피 맛나요</td>\n",
       "    </tr>\n",
       "    <tr>\n",
       "      <td id=\"T_0ed56_row35_col0\" class=\"data row35 col0\" >좋아하는 커피 맛집이에요</td>\n",
       "    </tr>\n",
       "    <tr>\n",
       "      <td id=\"T_0ed56_row36_col0\" class=\"data row36 col0\" >가성비 좋은 카페입니다.</td>\n",
       "    </tr>\n",
       "    <tr>\n",
       "      <td id=\"T_0ed56_row37_col0\" class=\"data row37 col0\" >시그니쳐 음료들이 맛있어요!</td>\n",
       "    </tr>\n",
       "    <tr>\n",
       "      <td id=\"T_0ed56_row38_col0\" class=\"data row38 col0\" >커피가 진하니 맛있어요굿~~~</td>\n",
       "    </tr>\n",
       "    <tr>\n",
       "      <td id=\"T_0ed56_row39_col0\" class=\"data row39 col0\" >가격이 저렴하고 커피종류가 다양해요</td>\n",
       "    </tr>\n",
       "    <tr>\n",
       "      <td id=\"T_0ed56_row40_col0\" class=\"data row40 col0\" >매일 사먹어요</td>\n",
       "    </tr>\n",
       "    <tr>\n",
       "      <td id=\"T_0ed56_row41_col0\" class=\"data row41 col0\" >피니콜라다쉐이크는 코코넛맛이 더 많이납니다부드러워요</td>\n",
       "    </tr>\n",
       "    <tr>\n",
       "      <td id=\"T_0ed56_row42_col0\" class=\"data row42 col0\" >피넛버터라니 이상하지 않을까 싶었지만 땅콩맛이 거의 나진 않아요. 크림맛과 탈지분유(?) 맛이 먼저 나구요 먹다보면 뒤에 살짝 어 이게 피넛버터 맛인가 할 정도 가볍게 느껴져요. 쿠키도 맛있었어요.</td>\n",
       "    </tr>\n",
       "    <tr>\n",
       "      <td id=\"T_0ed56_row43_col0\" class=\"data row43 col0\" >근처에서 식사하고 새로 생겨서 방문해봤어요. 실패없는 커피맛이었어요. 가성비 좋은 곳이라 앞으로 자주 방문하겠어요.</td>\n",
       "    </tr>\n",
       "    <tr>\n",
       "      <td id=\"T_0ed56_row44_col0\" class=\"data row44 col0\" >센소커피, 조아해요 💕</td>\n",
       "    </tr>\n",
       "    <tr>\n",
       "      <td id=\"T_0ed56_row45_col0\" class=\"data row45 col0\" >커피가 다양하고 기본되는 커피들이 모두 맛있어요^^</td>\n",
       "    </tr>\n",
       "    <tr>\n",
       "      <td id=\"T_0ed56_row46_col0\" class=\"data row46 col0\" >아메리카노 맛있는 몇안되는 가게중의 하나.</td>\n",
       "    </tr>\n",
       "    <tr>\n",
       "      <td id=\"T_0ed56_row47_col0\" class=\"data row47 col0\" >우연히 지나다 마셔봤는데 커피도 독특하니 맛도 좋고 디저트 파이도 특색도 있으면서 부드러우니 맛 좋네요 대박나세요</td>\n",
       "    </tr>\n",
       "    <tr>\n",
       "      <td id=\"T_0ed56_row48_col0\" class=\"data row48 col0\" >커피맛있어요!</td>\n",
       "    </tr>\n",
       "    <tr>\n",
       "      <td id=\"T_0ed56_row49_col0\" class=\"data row49 col0\" >쵸코아메 맛있어요 ㅎㅎ 크게 맛은 차이없는데 종류별로 향이 달라서 매력적임</td>\n",
       "    </tr>\n",
       "    <tr>\n",
       "      <td id=\"T_0ed56_row50_col0\" class=\"data row50 col0\" >가격이 저렴하고 맛도 괜찮아요!</td>\n",
       "    </tr>\n",
       "    <tr>\n",
       "      <td id=\"T_0ed56_row51_col0\" class=\"data row51 col0\" >10/31, 11/1 방문해서 센소크림 마셨어요~디카페인이 안되는거랑 크림이 연한거, 양일의 크림 농도가 다른고 양이 적은게 아쉽네요.그래도 커피가 맛있고 아메리카노는 저렴해요. 아메리카노, 라떼 추천 드려요~라떼 우유가 조금 달달해서 전 좋았어요!근데 10/31에 방문했을때 직원분께서 누군가 음료를 계속 가져가지않으니까 ‘000번 어떤 세끼야 ’라고 카운터에서 이야기해서 많이 놀랬어요. 손님이 커피 늦게 가져간다고 그렇게까지 할필요 있나.. 심지어 오픈 카운터인데..ㅎㅎ 커피는 맛있지만 여기서 친절함을 느끼긴 조금 어려울거 같네요🥲</td>\n",
       "    </tr>\n",
       "    <tr>\n",
       "      <td id=\"T_0ed56_row52_col0\" class=\"data row52 col0\" >멍때리기 좋음창가 자리가 많으면 더 좋겠어요^^</td>\n",
       "    </tr>\n",
       "    <tr>\n",
       "      <td id=\"T_0ed56_row53_col0\" class=\"data row53 col0\" >충무로 지역에서 아직 소금빵 유목민입니다. 이곳이 저의 정착역이 되었으면 좋겠습니다.</td>\n",
       "    </tr>\n",
       "    <tr>\n",
       "      <td id=\"T_0ed56_row54_col0\" class=\"data row54 col0\" >커피 맛있어요</td>\n",
       "    </tr>\n",
       "    <tr>\n",
       "      <td id=\"T_0ed56_row55_col0\" class=\"data row55 col0\" >가격이 저렴해요 ㅎㅎ</td>\n",
       "    </tr>\n",
       "    <tr>\n",
       "      <td id=\"T_0ed56_row56_col0\" class=\"data row56 col0\" >빠르게 나오고 맛있습니다</td>\n",
       "    </tr>\n",
       "    <tr>\n",
       "      <td id=\"T_0ed56_row57_col0\" class=\"data row57 col0\" >오픈 이벤트로 아메리카노 500원이라 좋네용! 원두가 여러가지라 고를수 있어서 좋아요</td>\n",
       "    </tr>\n",
       "    <tr>\n",
       "      <td id=\"T_0ed56_row58_col0\" class=\"data row58 col0\" >라떼맛있어요</td>\n",
       "    </tr>\n",
       "    <tr>\n",
       "      <td id=\"T_0ed56_row59_col0\" class=\"data row59 col0\" >커피는커피 커피는커피</td>\n",
       "    </tr>\n",
       "    <tr>\n",
       "      <td id=\"T_0ed56_row60_col0\" class=\"data row60 col0\" >커피와 애플파이가 너무 잘 어울립니다.</td>\n",
       "    </tr>\n",
       "    <tr>\n",
       "      <td id=\"T_0ed56_row61_col0\" class=\"data row61 col0\" >어둑하면서 모던한게 분위기가좋아요하지만 바닐라파이는 필링이 적고 파이지느낌만 가득해서 아쉬웠고 아메리카노는 특색있었어요 가격은 조금 비싼편 날씨가 추웠는데 내부가 따뜻한편은 아니고 매장이 조금 시끄러운편</td>\n",
       "    </tr>\n",
       "    <tr>\n",
       "      <td id=\"T_0ed56_row62_col0\" class=\"data row62 col0\" >근처에 회사가있어서 가격도착한데 양도많고 맛있어서 매일오고있어요 재오픈한지 얼마안된걸로 아는데 직원분들이 친절하셔서 올때 편안해서 좋아요~ 실내도 깔끔하고 차분한 분위기인것두 좋네영</td>\n",
       "    </tr>\n",
       "    <tr>\n",
       "      <td id=\"T_0ed56_row63_col0\" class=\"data row63 col0\" >센소쇼콜라..시그니처 메뉴맛있어용.플랫화이트 커피향좋아요</td>\n",
       "    </tr>\n",
       "    <tr>\n",
       "      <td id=\"T_0ed56_row64_col0\" class=\"data row64 col0\" >커피와 애플파이 세트가 있어요. 가성비 갑인 카페예요</td>\n",
       "    </tr>\n",
       "    <tr>\n",
       "      <td id=\"T_0ed56_row65_col0\" class=\"data row65 col0\" >소금빵이 인스타나 홍보로 사용하는 사진과 전혀 다 릅니다. 메뉴사진을 저렇게 하시면 안되죠.. 실제 나 오는 제품대로 이미지를 사용하셔야지 전혀 다...</td>\n",
       "    </tr>\n",
       "    <tr>\n",
       "      <td id=\"T_0ed56_row66_col0\" class=\"data row66 col0\" >커피가 저렴한데 되게 맛있고 양도 많아요들어갈때부터 환하게 인사해주셨는데직원분들이 친절하시고 편하게 해주셔서잘 머물다 갑니다</td>\n",
       "    </tr>\n",
       "    <tr>\n",
       "      <td id=\"T_0ed56_row67_col0\" class=\"data row67 col0\" >라떼 3800</td>\n",
       "    </tr>\n",
       "    <tr>\n",
       "      <td id=\"T_0ed56_row68_col0\" class=\"data row68 col0\" >가격대비 커피 향 참 좋아요</td>\n",
       "    </tr>\n",
       "    <tr>\n",
       "      <td id=\"T_0ed56_row69_col0\" class=\"data row69 col0\" >영수증 내 매장이름과 카드 영수증 내 사업자이름이 달라서 혼돈이 왔었음. 센소에너지가 진짜 에너지를 주는 맛이라서 추천.</td>\n",
       "    </tr>\n",
       "    <tr>\n",
       "      <td id=\"T_0ed56_row70_col0\" class=\"data row70 col0\" >커피맛이 좋아요</td>\n",
       "    </tr>\n",
       "    <tr>\n",
       "      <td id=\"T_0ed56_row71_col0\" class=\"data row71 col0\" >개인적으로 아메보다 라떼가 맛있네요</td>\n",
       "    </tr>\n",
       "    <tr>\n",
       "      <td id=\"T_0ed56_row72_col0\" class=\"data row72 col0\" >커피 종류가 다양하고 맛있어요</td>\n",
       "    </tr>\n",
       "    <tr>\n",
       "      <td id=\"T_0ed56_row73_col0\" class=\"data row73 col0\" >충무로 들렸다가 점심먹고 간단히 테이크아웃 커피 사먹었어요. 키오스크로 주문 간단하고, 금방 나오는 데다가 아메리카노 저렴해서 좋았습니다^^</td>\n",
       "    </tr>\n",
       "    <tr>\n",
       "      <td id=\"T_0ed56_row74_col0\" class=\"data row74 col0\" >에스프레소 맛있어요</td>\n",
       "    </tr>\n",
       "    <tr>\n",
       "      <td id=\"T_0ed56_row75_col0\" class=\"data row75 col0\" >마메리카노(다크초코렛)맛있어요</td>\n",
       "    </tr>\n",
       "    <tr>\n",
       "      <td id=\"T_0ed56_row76_col0\" class=\"data row76 col0\" >커피맛은 … 모르겠고~ 음료는 맛있습니다</td>\n",
       "    </tr>\n",
       "    <tr>\n",
       "      <td id=\"T_0ed56_row77_col0\" class=\"data row77 col0\" >아메리카노가 저렴하고 맛있어요!! 내부가 검정색이라 사진은 잘 안나오네요 ㅎ</td>\n",
       "    </tr>\n",
       "    <tr>\n",
       "      <td id=\"T_0ed56_row78_col0\" class=\"data row78 col0\" >오곡라떼 양이 너무 작아요.정량이 맞는지 물어볼 수 가없었네요(혼자 바쁘셔서)주말오후 손님이 계속와서 바테이블에서 먹었어요</td>\n",
       "    </tr>\n",
       "    <tr>\n",
       "      <td id=\"T_0ed56_row79_col0\" class=\"data row79 col0\" >가게 넘넘 깔끔하고 감성 터져요..!! 은근히 좌석 넓어서 쉬었다 가기 좋습니다~.~ 직원분들도 짱 친절하시고 음료 짱맛입니다!!</td>\n",
       "    </tr>\n",
       "    <tr>\n",
       "      <td id=\"T_0ed56_row80_col0\" class=\"data row80 col0\" >커피사먹기 좋아요</td>\n",
       "    </tr>\n",
       "    <tr>\n",
       "      <td id=\"T_0ed56_row81_col0\" class=\"data row81 col0\" >맛이 없을래야 없을 수 없는 달콤한 음료~ 피스타치오딸기쉐이크!</td>\n",
       "    </tr>\n",
       "    <tr>\n",
       "      <td id=\"T_0ed56_row82_col0\" class=\"data row82 col0\" >가성비 아주 좋은 커피 맛집입니다</td>\n",
       "    </tr>\n",
       "    <tr>\n",
       "      <td id=\"T_0ed56_row83_col0\" class=\"data row83 col0\" >저렴하고맛있어요</td>\n",
       "    </tr>\n",
       "    <tr>\n",
       "      <td id=\"T_0ed56_row84_col0\" class=\"data row84 col0\" >키오스크 정렬 순서가 바뀌었음 좋겠어요</td>\n",
       "    </tr>\n",
       "    <tr>\n",
       "      <td id=\"T_0ed56_row85_col0\" class=\"data row85 col0\" >지나다 우연히ㅋ</td>\n",
       "    </tr>\n",
       "    <tr>\n",
       "      <td id=\"T_0ed56_row86_col0\" class=\"data row86 col0\" >라떼 정말 맛있어요!!</td>\n",
       "    </tr>\n",
       "  </tbody>\n",
       "</table>\n"
      ],
      "text/plain": [
       "<pandas.io.formats.style.Styler at 0x26bb61b1e90>"
      ]
     },
     "execution_count": 12,
     "metadata": {},
     "output_type": "execute_result"
    }
   ],
   "source": [
    "Review_text = text_file[['Store','Review_text']]\n",
    "cond1 = (Review_text['Store'] == '5센소커피충무로점')\n",
    "Review_text[cond1][['Review_text']]"
   ]
  },
  {
   "cell_type": "markdown",
   "metadata": {},
   "source": [
    "# 라벨링 후 코드 추가"
   ]
  },
  {
   "cell_type": "code",
   "execution_count": 1,
   "metadata": {},
   "outputs": [],
   "source": [
    "import pandas as pd"
   ]
  },
  {
   "cell_type": "code",
   "execution_count": 2,
   "metadata": {},
   "outputs": [],
   "source": [
    "text_file = pd.read_csv(\"streamlit_cluster(04.24).csv\")"
   ]
  },
  {
   "cell_type": "code",
   "execution_count": 3,
   "metadata": {},
   "outputs": [
    {
     "data": {
      "text/html": [
       "<div>\n",
       "<style scoped>\n",
       "    .dataframe tbody tr th:only-of-type {\n",
       "        vertical-align: middle;\n",
       "    }\n",
       "\n",
       "    .dataframe tbody tr th {\n",
       "        vertical-align: top;\n",
       "    }\n",
       "\n",
       "    .dataframe thead th {\n",
       "        text-align: right;\n",
       "    }\n",
       "</style>\n",
       "<table border=\"1\" class=\"dataframe\">\n",
       "  <thead>\n",
       "    <tr style=\"text-align: right;\">\n",
       "      <th></th>\n",
       "      <th>X</th>\n",
       "      <th>Y</th>\n",
       "    </tr>\n",
       "    <tr>\n",
       "      <th>Store</th>\n",
       "      <th></th>\n",
       "      <th></th>\n",
       "    </tr>\n",
       "  </thead>\n",
       "  <tbody>\n",
       "    <tr>\n",
       "      <th>5센소커피충무로점</th>\n",
       "      <td>126.991228</td>\n",
       "      <td>37.562741</td>\n",
       "    </tr>\n",
       "    <tr>\n",
       "      <th>79파운야드을지로3가점</th>\n",
       "      <td>126.989468</td>\n",
       "      <td>37.565645</td>\n",
       "    </tr>\n",
       "    <tr>\n",
       "      <th>AboutBagel</th>\n",
       "      <td>126.983155</td>\n",
       "      <td>37.564582</td>\n",
       "    </tr>\n",
       "    <tr>\n",
       "      <th>Cre8</th>\n",
       "      <td>126.985245</td>\n",
       "      <td>37.567375</td>\n",
       "    </tr>\n",
       "    <tr>\n",
       "      <th>ERICKAYSER</th>\n",
       "      <td>126.978128</td>\n",
       "      <td>37.564656</td>\n",
       "    </tr>\n",
       "    <tr>\n",
       "      <th>...</th>\n",
       "      <td>...</td>\n",
       "      <td>...</td>\n",
       "    </tr>\n",
       "    <tr>\n",
       "      <th>홍밀밀</th>\n",
       "      <td>126.986829</td>\n",
       "      <td>37.563298</td>\n",
       "    </tr>\n",
       "    <tr>\n",
       "      <th>화미가신세계백화점본점</th>\n",
       "      <td>126.980768</td>\n",
       "      <td>37.560354</td>\n",
       "    </tr>\n",
       "    <tr>\n",
       "      <th>화수분</th>\n",
       "      <td>37.553381</td>\n",
       "      <td>127.009485</td>\n",
       "    </tr>\n",
       "    <tr>\n",
       "      <th>화수분약수본점</th>\n",
       "      <td>127.009485</td>\n",
       "      <td>37.553381</td>\n",
       "    </tr>\n",
       "    <tr>\n",
       "      <th>황소쿠키</th>\n",
       "      <td>126.966234</td>\n",
       "      <td>37.560416</td>\n",
       "    </tr>\n",
       "  </tbody>\n",
       "</table>\n",
       "<p>208 rows × 2 columns</p>\n",
       "</div>"
      ],
      "text/plain": [
       "                       X           Y\n",
       "Store                               \n",
       "5센소커피충무로점     126.991228   37.562741\n",
       "79파운야드을지로3가점  126.989468   37.565645\n",
       "AboutBagel    126.983155   37.564582\n",
       "Cre8          126.985245   37.567375\n",
       "ERICKAYSER    126.978128   37.564656\n",
       "...                  ...         ...\n",
       "홍밀밀           126.986829   37.563298\n",
       "화미가신세계백화점본점   126.980768   37.560354\n",
       "화수분            37.553381  127.009485\n",
       "화수분약수본점       127.009485   37.553381\n",
       "황소쿠키          126.966234   37.560416\n",
       "\n",
       "[208 rows x 2 columns]"
      ]
     },
     "execution_count": 3,
     "metadata": {},
     "output_type": "execute_result"
    }
   ],
   "source": [
    "latlon = text_file.groupby('Store').first()[['X', 'Y']]\n",
    "latlon"
   ]
  },
  {
   "cell_type": "code",
   "execution_count": 15,
   "metadata": {},
   "outputs": [
    {
     "data": {
      "text/html": [
       "<div>\n",
       "<style scoped>\n",
       "    .dataframe tbody tr th:only-of-type {\n",
       "        vertical-align: middle;\n",
       "    }\n",
       "\n",
       "    .dataframe tbody tr th {\n",
       "        vertical-align: top;\n",
       "    }\n",
       "\n",
       "    .dataframe thead th {\n",
       "        text-align: right;\n",
       "    }\n",
       "</style>\n",
       "<table border=\"1\" class=\"dataframe\">\n",
       "  <thead>\n",
       "    <tr style=\"text-align: right;\">\n",
       "      <th></th>\n",
       "      <th>Store</th>\n",
       "      <th>cluster</th>\n",
       "      <th>cluster_labeling</th>\n",
       "      <th>Review_text</th>\n",
       "      <th>Review_score</th>\n",
       "      <th>sentiment</th>\n",
       "      <th>Address</th>\n",
       "      <th>X</th>\n",
       "      <th>Y</th>\n",
       "      <th>행정동명</th>\n",
       "    </tr>\n",
       "  </thead>\n",
       "  <tbody>\n",
       "    <tr>\n",
       "      <th>0</th>\n",
       "      <td>5센소커피충무로점</td>\n",
       "      <td>0</td>\n",
       "      <td>추천 제외 매장</td>\n",
       "      <td>여름엔 아아지!!!</td>\n",
       "      <td>4.3</td>\n",
       "      <td>1</td>\n",
       "      <td>서울 중구 퇴계로27길 35 1층</td>\n",
       "      <td>126.991228</td>\n",
       "      <td>37.562741</td>\n",
       "      <td>필동</td>\n",
       "    </tr>\n",
       "    <tr>\n",
       "      <th>2</th>\n",
       "      <td>5센소커피충무로점</td>\n",
       "      <td>0</td>\n",
       "      <td>추천 제외 매장</td>\n",
       "      <td>처음에는 라떼가. 맛있었는데ᆢ왜맛이 변한거죠???다시 원래대로 만들어주세요</td>\n",
       "      <td>4.3</td>\n",
       "      <td>0</td>\n",
       "      <td>서울 중구 퇴계로27길 35 1층</td>\n",
       "      <td>126.991228</td>\n",
       "      <td>37.562741</td>\n",
       "      <td>필동</td>\n",
       "    </tr>\n",
       "    <tr>\n",
       "      <th>3</th>\n",
       "      <td>5센소커피충무로점</td>\n",
       "      <td>0</td>\n",
       "      <td>추천 제외 매장</td>\n",
       "      <td>아메리카노 와인 아이스 테이크아웃.더위를 날려 주는 아아</td>\n",
       "      <td>4.3</td>\n",
       "      <td>1</td>\n",
       "      <td>서울 중구 퇴계로27길 35 1층</td>\n",
       "      <td>126.991228</td>\n",
       "      <td>37.562741</td>\n",
       "      <td>필동</td>\n",
       "    </tr>\n",
       "    <tr>\n",
       "      <th>5</th>\n",
       "      <td>5센소커피충무로점</td>\n",
       "      <td>0</td>\n",
       "      <td>추천 제외 매장</td>\n",
       "      <td>가성비 내용물 모두 최고에요~양도 많아서 너무 좋아요~</td>\n",
       "      <td>4.3</td>\n",
       "      <td>1</td>\n",
       "      <td>서울 중구 퇴계로27길 35 1층</td>\n",
       "      <td>126.991228</td>\n",
       "      <td>37.562741</td>\n",
       "      <td>필동</td>\n",
       "    </tr>\n",
       "    <tr>\n",
       "      <th>6</th>\n",
       "      <td>5센소커피충무로점</td>\n",
       "      <td>0</td>\n",
       "      <td>추천 제외 매장</td>\n",
       "      <td>아까운 창가자리좌석 더 만들어주세요</td>\n",
       "      <td>4.3</td>\n",
       "      <td>1</td>\n",
       "      <td>서울 중구 퇴계로27길 35 1층</td>\n",
       "      <td>126.991228</td>\n",
       "      <td>37.562741</td>\n",
       "      <td>필동</td>\n",
       "    </tr>\n",
       "    <tr>\n",
       "      <th>...</th>\n",
       "      <td>...</td>\n",
       "      <td>...</td>\n",
       "      <td>...</td>\n",
       "      <td>...</td>\n",
       "      <td>...</td>\n",
       "      <td>...</td>\n",
       "      <td>...</td>\n",
       "      <td>...</td>\n",
       "      <td>...</td>\n",
       "      <td>...</td>\n",
       "    </tr>\n",
       "    <tr>\n",
       "      <th>15217</th>\n",
       "      <td>황소쿠키</td>\n",
       "      <td>0</td>\n",
       "      <td>추천 제외 매장</td>\n",
       "      <td>쿠키 속이 알차요</td>\n",
       "      <td>4.4</td>\n",
       "      <td>1</td>\n",
       "      <td>서울 중구 서소문로 38 126호 황소쿠키</td>\n",
       "      <td>126.966234</td>\n",
       "      <td>37.560416</td>\n",
       "      <td>중림동</td>\n",
       "    </tr>\n",
       "    <tr>\n",
       "      <th>15221</th>\n",
       "      <td>황소쿠키</td>\n",
       "      <td>0</td>\n",
       "      <td>추천 제외 매장</td>\n",
       "      <td>더운날씨에 젤라또 먹고싶어서 가봤는데쫀득하고 맛있었어요👍</td>\n",
       "      <td>4.4</td>\n",
       "      <td>1</td>\n",
       "      <td>서울 중구 서소문로 38 126호 황소쿠키</td>\n",
       "      <td>126.966234</td>\n",
       "      <td>37.560416</td>\n",
       "      <td>중림동</td>\n",
       "    </tr>\n",
       "    <tr>\n",
       "      <th>15222</th>\n",
       "      <td>황소쿠키</td>\n",
       "      <td>0</td>\n",
       "      <td>추천 제외 매장</td>\n",
       "      <td>원재료가 좋아서 쿠키 맛이 좋아요종류도 다양하고 선물용으로 좋아요^^</td>\n",
       "      <td>4.4</td>\n",
       "      <td>1</td>\n",
       "      <td>서울 중구 서소문로 38 126호 황소쿠키</td>\n",
       "      <td>126.966234</td>\n",
       "      <td>37.560416</td>\n",
       "      <td>중림동</td>\n",
       "    </tr>\n",
       "    <tr>\n",
       "      <th>15225</th>\n",
       "      <td>황소쿠키</td>\n",
       "      <td>0</td>\n",
       "      <td>추천 제외 매장</td>\n",
       "      <td>사장님 자매가 함께 운영한다는 유기농쿠키집이랍니다. 재료가 큼직하고 진하기가 ......</td>\n",
       "      <td>4.4</td>\n",
       "      <td>1</td>\n",
       "      <td>서울 중구 서소문로 38 126호 황소쿠키</td>\n",
       "      <td>126.966234</td>\n",
       "      <td>37.560416</td>\n",
       "      <td>중림동</td>\n",
       "    </tr>\n",
       "    <tr>\n",
       "      <th>15226</th>\n",
       "      <td>황소쿠키</td>\n",
       "      <td>0</td>\n",
       "      <td>추천 제외 매장</td>\n",
       "      <td>쿠키 가 11가지 종류가 있어요~~사장님 친절하시고 쿠키 잘먹겠습니다!</td>\n",
       "      <td>4.4</td>\n",
       "      <td>1</td>\n",
       "      <td>서울 중구 서소문로 38 126호 황소쿠키</td>\n",
       "      <td>126.966234</td>\n",
       "      <td>37.560416</td>\n",
       "      <td>중림동</td>\n",
       "    </tr>\n",
       "  </tbody>\n",
       "</table>\n",
       "<p>7213 rows × 10 columns</p>\n",
       "</div>"
      ],
      "text/plain": [
       "           Store  cluster cluster_labeling  \\\n",
       "0      5센소커피충무로점        0         추천 제외 매장   \n",
       "2      5센소커피충무로점        0         추천 제외 매장   \n",
       "3      5센소커피충무로점        0         추천 제외 매장   \n",
       "5      5센소커피충무로점        0         추천 제외 매장   \n",
       "6      5센소커피충무로점        0         추천 제외 매장   \n",
       "...          ...      ...              ...   \n",
       "15217       황소쿠키        0         추천 제외 매장   \n",
       "15221       황소쿠키        0         추천 제외 매장   \n",
       "15222       황소쿠키        0         추천 제외 매장   \n",
       "15225       황소쿠키        0         추천 제외 매장   \n",
       "15226       황소쿠키        0         추천 제외 매장   \n",
       "\n",
       "                                             Review_text  Review_score  \\\n",
       "0                                             여름엔 아아지!!!           4.3   \n",
       "2              처음에는 라떼가. 맛있었는데ᆢ왜맛이 변한거죠???다시 원래대로 만들어주세요           4.3   \n",
       "3                        아메리카노 와인 아이스 테이크아웃.더위를 날려 주는 아아           4.3   \n",
       "5                         가성비 내용물 모두 최고에요~양도 많아서 너무 좋아요~           4.3   \n",
       "6                                    아까운 창가자리좌석 더 만들어주세요           4.3   \n",
       "...                                                  ...           ...   \n",
       "15217                                          쿠키 속이 알차요           4.4   \n",
       "15221                    더운날씨에 젤라또 먹고싶어서 가봤는데쫀득하고 맛있었어요👍           4.4   \n",
       "15222             원재료가 좋아서 쿠키 맛이 좋아요종류도 다양하고 선물용으로 좋아요^^           4.4   \n",
       "15225  사장님 자매가 함께 운영한다는 유기농쿠키집이랍니다. 재료가 큼직하고 진하기가 ......           4.4   \n",
       "15226            쿠키 가 11가지 종류가 있어요~~사장님 친절하시고 쿠키 잘먹겠습니다!           4.4   \n",
       "\n",
       "       sentiment                  Address           X          Y 행정동명  \n",
       "0              1       서울 중구 퇴계로27길 35 1층  126.991228  37.562741   필동  \n",
       "2              0       서울 중구 퇴계로27길 35 1층  126.991228  37.562741   필동  \n",
       "3              1       서울 중구 퇴계로27길 35 1층  126.991228  37.562741   필동  \n",
       "5              1       서울 중구 퇴계로27길 35 1층  126.991228  37.562741   필동  \n",
       "6              1       서울 중구 퇴계로27길 35 1층  126.991228  37.562741   필동  \n",
       "...          ...                      ...         ...        ...  ...  \n",
       "15217          1  서울 중구 서소문로 38 126호 황소쿠키  126.966234  37.560416  중림동  \n",
       "15221          1  서울 중구 서소문로 38 126호 황소쿠키  126.966234  37.560416  중림동  \n",
       "15222          1  서울 중구 서소문로 38 126호 황소쿠키  126.966234  37.560416  중림동  \n",
       "15225          1  서울 중구 서소문로 38 126호 황소쿠키  126.966234  37.560416  중림동  \n",
       "15226          1  서울 중구 서소문로 38 126호 황소쿠키  126.966234  37.560416  중림동  \n",
       "\n",
       "[7213 rows x 10 columns]"
      ]
     },
     "execution_count": 15,
     "metadata": {},
     "output_type": "execute_result"
    }
   ],
   "source": [
    "cond5 = (text_file['cluster']==0)\n",
    "text_file[cond5]"
   ]
  },
  {
   "cell_type": "code",
   "execution_count": 14,
   "metadata": {},
   "outputs": [
    {
     "data": {
      "text/html": [
       "<div>\n",
       "<style scoped>\n",
       "    .dataframe tbody tr th:only-of-type {\n",
       "        vertical-align: middle;\n",
       "    }\n",
       "\n",
       "    .dataframe tbody tr th {\n",
       "        vertical-align: top;\n",
       "    }\n",
       "\n",
       "    .dataframe thead th {\n",
       "        text-align: right;\n",
       "    }\n",
       "</style>\n",
       "<table border=\"1\" class=\"dataframe\">\n",
       "  <thead>\n",
       "    <tr style=\"text-align: right;\">\n",
       "      <th></th>\n",
       "      <th>Review_score</th>\n",
       "      <th>Address</th>\n",
       "      <th>행정동명</th>\n",
       "      <th>cluster_labeling</th>\n",
       "    </tr>\n",
       "    <tr>\n",
       "      <th>Store</th>\n",
       "      <th></th>\n",
       "      <th></th>\n",
       "      <th></th>\n",
       "      <th></th>\n",
       "    </tr>\n",
       "  </thead>\n",
       "  <tbody>\n",
       "    <tr>\n",
       "      <th>5센소커피충무로점</th>\n",
       "      <td>4.30</td>\n",
       "      <td>서울 중구 퇴계로27길 35 1층</td>\n",
       "      <td>필동</td>\n",
       "      <td>추천 제외 매장</td>\n",
       "    </tr>\n",
       "    <tr>\n",
       "      <th>79파운야드을지로3가점</th>\n",
       "      <td>4.30</td>\n",
       "      <td>서울 중구 삼일대로10길 36 1층 101호</td>\n",
       "      <td>을지로동</td>\n",
       "      <td>추천 제외 매장</td>\n",
       "    </tr>\n",
       "    <tr>\n",
       "      <th>AboutBagel</th>\n",
       "      <td>4.30</td>\n",
       "      <td>서울 중구 명동7가길 22 1층, 2층</td>\n",
       "      <td>명동</td>\n",
       "      <td>추천 제외 매장</td>\n",
       "    </tr>\n",
       "    <tr>\n",
       "      <th>Cre8</th>\n",
       "      <td>4.30</td>\n",
       "      <td>서울 중구 을지로5길 26 미래에셋 센터원 지하1층</td>\n",
       "      <td>명동</td>\n",
       "      <td>추천 제외 매장</td>\n",
       "    </tr>\n",
       "    <tr>\n",
       "      <th>ERICKAYSER</th>\n",
       "      <td>4.42</td>\n",
       "      <td>서울 중구 소공로 119</td>\n",
       "      <td>소공동</td>\n",
       "      <td>추천 제외 매장</td>\n",
       "    </tr>\n",
       "    <tr>\n",
       "      <th>...</th>\n",
       "      <td>...</td>\n",
       "      <td>...</td>\n",
       "      <td>...</td>\n",
       "      <td>...</td>\n",
       "    </tr>\n",
       "    <tr>\n",
       "      <th>혜민당</th>\n",
       "      <td>4.40</td>\n",
       "      <td>서울 중구 삼일대로12길 16-9</td>\n",
       "      <td>명동</td>\n",
       "      <td>추천 제외 매장</td>\n",
       "    </tr>\n",
       "    <tr>\n",
       "      <th>홍밀밀</th>\n",
       "      <td>4.40</td>\n",
       "      <td>서울 중구 명동길 74 명동성당 가톨릭회관 신관 B-105호</td>\n",
       "      <td>명동</td>\n",
       "      <td>추천 제외 매장</td>\n",
       "    </tr>\n",
       "    <tr>\n",
       "      <th>화수분</th>\n",
       "      <td>3.80</td>\n",
       "      <td>서울 중구 다산로 103</td>\n",
       "      <td>다산동</td>\n",
       "      <td>추천 제외 매장</td>\n",
       "    </tr>\n",
       "    <tr>\n",
       "      <th>화수분약수본점</th>\n",
       "      <td>2.60</td>\n",
       "      <td>서울 중구 다산로 103 (신당동)</td>\n",
       "      <td>다산동</td>\n",
       "      <td>추천 제외 매장</td>\n",
       "    </tr>\n",
       "    <tr>\n",
       "      <th>황소쿠키</th>\n",
       "      <td>4.40</td>\n",
       "      <td>서울 중구 서소문로 38 126호 황소쿠키</td>\n",
       "      <td>중림동</td>\n",
       "      <td>추천 제외 매장</td>\n",
       "    </tr>\n",
       "  </tbody>\n",
       "</table>\n",
       "<p>201 rows × 4 columns</p>\n",
       "</div>"
      ],
      "text/plain": [
       "              Review_score                            Address  행정동명  \\\n",
       "Store                                                                 \n",
       "5센소커피충무로점             4.30                 서울 중구 퇴계로27길 35 1층    필동   \n",
       "79파운야드을지로3가점          4.30           서울 중구 삼일대로10길 36 1층 101호  을지로동   \n",
       "AboutBagel            4.30              서울 중구 명동7가길 22 1층, 2층    명동   \n",
       "Cre8                  4.30       서울 중구 을지로5길 26 미래에셋 센터원 지하1층    명동   \n",
       "ERICKAYSER            4.42                      서울 중구 소공로 119   소공동   \n",
       "...                    ...                                ...   ...   \n",
       "혜민당                   4.40                 서울 중구 삼일대로12길 16-9    명동   \n",
       "홍밀밀                   4.40  서울 중구 명동길 74 명동성당 가톨릭회관 신관 B-105호    명동   \n",
       "화수분                   3.80                      서울 중구 다산로 103   다산동   \n",
       "화수분약수본점               2.60                서울 중구 다산로 103 (신당동)   다산동   \n",
       "황소쿠키                  4.40            서울 중구 서소문로 38 126호 황소쿠키   중림동   \n",
       "\n",
       "             cluster_labeling  \n",
       "Store                          \n",
       "5센소커피충무로점            추천 제외 매장  \n",
       "79파운야드을지로3가점         추천 제외 매장  \n",
       "AboutBagel           추천 제외 매장  \n",
       "Cre8                 추천 제외 매장  \n",
       "ERICKAYSER           추천 제외 매장  \n",
       "...                       ...  \n",
       "혜민당                  추천 제외 매장  \n",
       "홍밀밀                  추천 제외 매장  \n",
       "화수분                  추천 제외 매장  \n",
       "화수분약수본점              추천 제외 매장  \n",
       "황소쿠키                 추천 제외 매장  \n",
       "\n",
       "[201 rows x 4 columns]"
      ]
     },
     "execution_count": 14,
     "metadata": {},
     "output_type": "execute_result"
    }
   ],
   "source": [
    "information = text_file[cond5].groupby('Store').first()[['Review_score','Address','행정동명','cluster_labeling']]\n",
    "information"
   ]
  },
  {
   "cell_type": "code",
   "execution_count": 35,
   "metadata": {},
   "outputs": [
    {
     "data": {
      "text/html": [
       "<div>\n",
       "<style scoped>\n",
       "    .dataframe tbody tr th:only-of-type {\n",
       "        vertical-align: middle;\n",
       "    }\n",
       "\n",
       "    .dataframe tbody tr th {\n",
       "        vertical-align: top;\n",
       "    }\n",
       "\n",
       "    .dataframe thead th {\n",
       "        text-align: right;\n",
       "    }\n",
       "</style>\n",
       "<table border=\"1\" class=\"dataframe\">\n",
       "  <thead>\n",
       "    <tr style=\"text-align: right;\">\n",
       "      <th></th>\n",
       "      <th>Review_score</th>\n",
       "      <th>Address</th>\n",
       "      <th>행정동명</th>\n",
       "      <th>cluster_labeling</th>\n",
       "    </tr>\n",
       "    <tr>\n",
       "      <th>Store</th>\n",
       "      <th></th>\n",
       "      <th></th>\n",
       "      <th></th>\n",
       "      <th></th>\n",
       "    </tr>\n",
       "  </thead>\n",
       "  <tbody>\n",
       "    <tr>\n",
       "      <th>5센소커피충무로점</th>\n",
       "      <td>4.30</td>\n",
       "      <td>서울 중구 퇴계로27길 35 1층</td>\n",
       "      <td>필동</td>\n",
       "      <td>추천 제외 매장</td>\n",
       "    </tr>\n",
       "    <tr>\n",
       "      <th>79파운야드을지로3가점</th>\n",
       "      <td>4.30</td>\n",
       "      <td>서울 중구 삼일대로10길 36 1층 101호</td>\n",
       "      <td>을지로동</td>\n",
       "      <td>넓고 쾌적한 매장</td>\n",
       "    </tr>\n",
       "    <tr>\n",
       "      <th>AboutBagel</th>\n",
       "      <td>4.30</td>\n",
       "      <td>서울 중구 명동7가길 22 1층, 2층</td>\n",
       "      <td>명동</td>\n",
       "      <td>소문난 빵맛집</td>\n",
       "    </tr>\n",
       "    <tr>\n",
       "      <th>Cre8</th>\n",
       "      <td>4.30</td>\n",
       "      <td>서울 중구 을지로5길 26 미래에셋 센터원 지하1층</td>\n",
       "      <td>명동</td>\n",
       "      <td>빵과 음료 맛집</td>\n",
       "    </tr>\n",
       "    <tr>\n",
       "      <th>ERICKAYSER</th>\n",
       "      <td>4.42</td>\n",
       "      <td>서울 중구 소공로 119</td>\n",
       "      <td>소공동</td>\n",
       "      <td>소문난 빵맛집</td>\n",
       "    </tr>\n",
       "    <tr>\n",
       "      <th>...</th>\n",
       "      <td>...</td>\n",
       "      <td>...</td>\n",
       "      <td>...</td>\n",
       "      <td>...</td>\n",
       "    </tr>\n",
       "    <tr>\n",
       "      <th>홍밀밀</th>\n",
       "      <td>4.40</td>\n",
       "      <td>서울 중구 명동길 74 명동성당 가톨릭회관 신관 B-105호</td>\n",
       "      <td>명동</td>\n",
       "      <td>추천 제외 매장</td>\n",
       "    </tr>\n",
       "    <tr>\n",
       "      <th>화미가신세계백화점본점</th>\n",
       "      <td>4.40</td>\n",
       "      <td>서울 중구 퇴계로 77 신관 지하 1층</td>\n",
       "      <td>회현동</td>\n",
       "      <td>소문난 빵맛집</td>\n",
       "    </tr>\n",
       "    <tr>\n",
       "      <th>화수분</th>\n",
       "      <td>3.80</td>\n",
       "      <td>서울 중구 다산로 103</td>\n",
       "      <td>다산동</td>\n",
       "      <td>추천 제외 매장</td>\n",
       "    </tr>\n",
       "    <tr>\n",
       "      <th>화수분약수본점</th>\n",
       "      <td>2.60</td>\n",
       "      <td>서울 중구 다산로 103 (신당동)</td>\n",
       "      <td>다산동</td>\n",
       "      <td>추천 제외 매장</td>\n",
       "    </tr>\n",
       "    <tr>\n",
       "      <th>황소쿠키</th>\n",
       "      <td>4.40</td>\n",
       "      <td>서울 중구 서소문로 38 126호 황소쿠키</td>\n",
       "      <td>중림동</td>\n",
       "      <td>추천 제외 매장</td>\n",
       "    </tr>\n",
       "  </tbody>\n",
       "</table>\n",
       "<p>208 rows × 4 columns</p>\n",
       "</div>"
      ],
      "text/plain": [
       "              Review_score                            Address  행정동명  \\\n",
       "Store                                                                 \n",
       "5센소커피충무로점             4.30                 서울 중구 퇴계로27길 35 1층    필동   \n",
       "79파운야드을지로3가점          4.30           서울 중구 삼일대로10길 36 1층 101호  을지로동   \n",
       "AboutBagel            4.30              서울 중구 명동7가길 22 1층, 2층    명동   \n",
       "Cre8                  4.30       서울 중구 을지로5길 26 미래에셋 센터원 지하1층    명동   \n",
       "ERICKAYSER            4.42                      서울 중구 소공로 119   소공동   \n",
       "...                    ...                                ...   ...   \n",
       "홍밀밀                   4.40  서울 중구 명동길 74 명동성당 가톨릭회관 신관 B-105호    명동   \n",
       "화미가신세계백화점본점           4.40              서울 중구 퇴계로 77 신관 지하 1층   회현동   \n",
       "화수분                   3.80                      서울 중구 다산로 103   다산동   \n",
       "화수분약수본점               2.60                서울 중구 다산로 103 (신당동)   다산동   \n",
       "황소쿠키                  4.40            서울 중구 서소문로 38 126호 황소쿠키   중림동   \n",
       "\n",
       "             cluster_labeling  \n",
       "Store                          \n",
       "5센소커피충무로점            추천 제외 매장  \n",
       "79파운야드을지로3가점        넓고 쾌적한 매장  \n",
       "AboutBagel            소문난 빵맛집  \n",
       "Cre8                 빵과 음료 맛집  \n",
       "ERICKAYSER            소문난 빵맛집  \n",
       "...                       ...  \n",
       "홍밀밀                  추천 제외 매장  \n",
       "화미가신세계백화점본점           소문난 빵맛집  \n",
       "화수분                  추천 제외 매장  \n",
       "화수분약수본점              추천 제외 매장  \n",
       "황소쿠키                 추천 제외 매장  \n",
       "\n",
       "[208 rows x 4 columns]"
      ]
     },
     "execution_count": 35,
     "metadata": {},
     "output_type": "execute_result"
    }
   ],
   "source": [
    "information = text_file.groupby('Store').first()[['Review_score','Address','행정동명','cluster_labeling']]\n",
    "information"
   ]
  },
  {
   "cell_type": "code",
   "execution_count": 16,
   "metadata": {},
   "outputs": [
    {
     "data": {
      "text/html": [
       "<div>\n",
       "<style scoped>\n",
       "    .dataframe tbody tr th:only-of-type {\n",
       "        vertical-align: middle;\n",
       "    }\n",
       "\n",
       "    .dataframe tbody tr th {\n",
       "        vertical-align: top;\n",
       "    }\n",
       "\n",
       "    .dataframe thead th {\n",
       "        text-align: right;\n",
       "    }\n",
       "</style>\n",
       "<table border=\"1\" class=\"dataframe\">\n",
       "  <thead>\n",
       "    <tr style=\"text-align: right;\">\n",
       "      <th></th>\n",
       "      <th>Store</th>\n",
       "      <th>Review_text</th>\n",
       "      <th>sentiment</th>\n",
       "      <th>cluster</th>\n",
       "    </tr>\n",
       "  </thead>\n",
       "  <tbody>\n",
       "    <tr>\n",
       "      <th>0</th>\n",
       "      <td>5센소커피충무로점</td>\n",
       "      <td>여름엔 아아지!!!</td>\n",
       "      <td>1</td>\n",
       "      <td>0</td>\n",
       "    </tr>\n",
       "    <tr>\n",
       "      <th>1</th>\n",
       "      <td>5센소커피충무로점</td>\n",
       "      <td>커피 맛있었어요~! 키오스크 주문이라 편리하고 레몬쿠키도 촉촉하니 새콤달콤 했어요~!</td>\n",
       "      <td>1</td>\n",
       "      <td>3</td>\n",
       "    </tr>\n",
       "    <tr>\n",
       "      <th>2</th>\n",
       "      <td>5센소커피충무로점</td>\n",
       "      <td>처음에는 라떼가. 맛있었는데ᆢ왜맛이 변한거죠???다시 원래대로 만들어주세요</td>\n",
       "      <td>0</td>\n",
       "      <td>0</td>\n",
       "    </tr>\n",
       "    <tr>\n",
       "      <th>3</th>\n",
       "      <td>5센소커피충무로점</td>\n",
       "      <td>아메리카노 와인 아이스 테이크아웃.더위를 날려 주는 아아</td>\n",
       "      <td>1</td>\n",
       "      <td>0</td>\n",
       "    </tr>\n",
       "    <tr>\n",
       "      <th>4</th>\n",
       "      <td>5센소커피충무로점</td>\n",
       "      <td>매장이 고급스럽고 깔끔해요커피도 5가지중에 고를수 있고 가격도 저렴한데 맛은 진짜 ...</td>\n",
       "      <td>1</td>\n",
       "      <td>5</td>\n",
       "    </tr>\n",
       "    <tr>\n",
       "      <th>...</th>\n",
       "      <td>...</td>\n",
       "      <td>...</td>\n",
       "      <td>...</td>\n",
       "      <td>...</td>\n",
       "    </tr>\n",
       "    <tr>\n",
       "      <th>15222</th>\n",
       "      <td>황소쿠키</td>\n",
       "      <td>원재료가 좋아서 쿠키 맛이 좋아요종류도 다양하고 선물용으로 좋아요^^</td>\n",
       "      <td>1</td>\n",
       "      <td>0</td>\n",
       "    </tr>\n",
       "    <tr>\n",
       "      <th>15223</th>\n",
       "      <td>황소쿠키</td>\n",
       "      <td>종류별로 다 ~~맛있어요!</td>\n",
       "      <td>1</td>\n",
       "      <td>3</td>\n",
       "    </tr>\n",
       "    <tr>\n",
       "      <th>15224</th>\n",
       "      <td>황소쿠키</td>\n",
       "      <td>쿠키 너무 맛있고 크기대비 저렴한 편이고 사장님도 친절하시고 자주 방문하는 곳이에요!</td>\n",
       "      <td>1</td>\n",
       "      <td>1</td>\n",
       "    </tr>\n",
       "    <tr>\n",
       "      <th>15225</th>\n",
       "      <td>황소쿠키</td>\n",
       "      <td>사장님 자매가 함께 운영한다는 유기농쿠키집이랍니다. 재료가 큼직하고 진하기가 ......</td>\n",
       "      <td>1</td>\n",
       "      <td>0</td>\n",
       "    </tr>\n",
       "    <tr>\n",
       "      <th>15226</th>\n",
       "      <td>황소쿠키</td>\n",
       "      <td>쿠키 가 11가지 종류가 있어요~~사장님 친절하시고 쿠키 잘먹겠습니다!</td>\n",
       "      <td>1</td>\n",
       "      <td>0</td>\n",
       "    </tr>\n",
       "  </tbody>\n",
       "</table>\n",
       "<p>15227 rows × 4 columns</p>\n",
       "</div>"
      ],
      "text/plain": [
       "           Store                                        Review_text  \\\n",
       "0      5센소커피충무로점                                         여름엔 아아지!!!   \n",
       "1      5센소커피충무로점    커피 맛있었어요~! 키오스크 주문이라 편리하고 레몬쿠키도 촉촉하니 새콤달콤 했어요~!   \n",
       "2      5센소커피충무로점          처음에는 라떼가. 맛있었는데ᆢ왜맛이 변한거죠???다시 원래대로 만들어주세요   \n",
       "3      5센소커피충무로점                    아메리카노 와인 아이스 테이크아웃.더위를 날려 주는 아아   \n",
       "4      5센소커피충무로점  매장이 고급스럽고 깔끔해요커피도 5가지중에 고를수 있고 가격도 저렴한데 맛은 진짜 ...   \n",
       "...          ...                                                ...   \n",
       "15222       황소쿠키             원재료가 좋아서 쿠키 맛이 좋아요종류도 다양하고 선물용으로 좋아요^^   \n",
       "15223       황소쿠키                                     종류별로 다 ~~맛있어요!   \n",
       "15224       황소쿠키    쿠키 너무 맛있고 크기대비 저렴한 편이고 사장님도 친절하시고 자주 방문하는 곳이에요!   \n",
       "15225       황소쿠키  사장님 자매가 함께 운영한다는 유기농쿠키집이랍니다. 재료가 큼직하고 진하기가 ......   \n",
       "15226       황소쿠키            쿠키 가 11가지 종류가 있어요~~사장님 친절하시고 쿠키 잘먹겠습니다!   \n",
       "\n",
       "       sentiment  cluster  \n",
       "0              1        0  \n",
       "1              1        3  \n",
       "2              0        0  \n",
       "3              1        0  \n",
       "4              1        5  \n",
       "...          ...      ...  \n",
       "15222          1        0  \n",
       "15223          1        3  \n",
       "15224          1        1  \n",
       "15225          1        0  \n",
       "15226          1        0  \n",
       "\n",
       "[15227 rows x 4 columns]"
      ]
     },
     "execution_count": 16,
     "metadata": {},
     "output_type": "execute_result"
    }
   ],
   "source": [
    "Review_text = text_file[['Store','Review_text','sentiment','cluster']]\n",
    "Review_text"
   ]
  },
  {
   "cell_type": "code",
   "execution_count": 59,
   "metadata": {},
   "outputs": [
    {
     "data": {
      "text/plain": [
       "6286     서울신라호텔패스트리부티크\n",
       "10097           잇츠크리스피\n",
       "947             그라츠과자점\n",
       "5030        브레댄코동대입구역점\n",
       "2221        디어스베이커리신당점\n",
       "16           5센소커피충무로점\n",
       "5804                빵쌤\n",
       "5692           빵굼터약수동점\n",
       "12774              태극당\n",
       "Name: Store, dtype: object"
      ]
     },
     "execution_count": 59,
     "metadata": {},
     "output_type": "execute_result"
    }
   ],
   "source": [
    "# 커서 갖다대면 자료타입 알려준다. > max 함수로 flag=False하기\n",
    "what = text_file[text_file['cluster'] == 0]['Store'].sample(n=9)\n",
    "what"
   ]
  },
  {
   "cell_type": "markdown",
   "metadata": {},
   "source": [
    "# 작동 시간 체크"
   ]
  },
  {
   "cell_type": "code",
   "execution_count": 25,
   "metadata": {},
   "outputs": [],
   "source": [
    "import time"
   ]
  },
  {
   "cell_type": "code",
   "execution_count": 28,
   "metadata": {},
   "outputs": [
    {
     "data": {
      "text/plain": [
       "[1, 1, 1, 1, 1, 1, 1, 1, 1]"
      ]
     },
     "execution_count": 28,
     "metadata": {},
     "output_type": "execute_result"
    }
   ],
   "source": [
    "# 중복체크 1\n",
    "counter = list(what.value_counts())\n",
    "counter # max(counter): 1"
   ]
  },
  {
   "cell_type": "code",
   "execution_count": 31,
   "metadata": {},
   "outputs": [
    {
     "data": {
      "text/plain": [
       "1"
      ]
     },
     "execution_count": 31,
     "metadata": {},
     "output_type": "execute_result"
    }
   ],
   "source": [
    "# 중복체크 2\n",
    "from collections import Counter\n",
    "counter = Counter(what)\n",
    "max_counter = list(counter.values())\n",
    "max(max_counter)"
   ]
  },
  {
   "cell_type": "code",
   "execution_count": 30,
   "metadata": {},
   "outputs": [
    {
     "data": {
      "text/plain": [
       "0.0004327000060584396"
      ]
     },
     "execution_count": 30,
     "metadata": {},
     "output_type": "execute_result"
    }
   ],
   "source": [
    "# 시간체크 - 버전1\n",
    "start_time = time.perf_counter()\n",
    "list(what.value_counts())\n",
    "end_time = time.perf_counter()\n",
    "\n",
    "result_time = end_time-start_time\n",
    "result_time"
   ]
  },
  {
   "cell_type": "code",
   "execution_count": 26,
   "metadata": {},
   "outputs": [
    {
     "data": {
      "text/plain": [
       "0.0"
      ]
     },
     "execution_count": 26,
     "metadata": {},
     "output_type": "execute_result"
    }
   ],
   "source": [
    "# 시간체크 (폐기)\n",
    "start_time = time.time()\n",
    "from collections import Counter\n",
    "counter = Counter(what)\n",
    "list(counter.values())\n",
    "end_time = time.time()\n",
    "\n",
    "result_time = end_time-start_time\n",
    "result_time"
   ]
  },
  {
   "cell_type": "code",
   "execution_count": 27,
   "metadata": {},
   "outputs": [
    {
     "data": {
      "text/plain": [
       "0.0001047999830916524"
      ]
     },
     "execution_count": 27,
     "metadata": {},
     "output_type": "execute_result"
    }
   ],
   "source": [
    "# 시간체크 - 버전2 >>> 더 빠르다.\n",
    "start_time = time.perf_counter()\n",
    "from collections import Counter\n",
    "counter = Counter(what)\n",
    "list(counter.values())\n",
    "end_time = time.perf_counter()\n",
    "\n",
    "result_time = end_time-start_time\n",
    "result_time"
   ]
  },
  {
   "cell_type": "markdown",
   "metadata": {},
   "source": [
    "# 다시 코드 작성"
   ]
  },
  {
   "cell_type": "code",
   "execution_count": 12,
   "metadata": {},
   "outputs": [
    {
     "data": {
      "text/plain": [
       "'추천 제외 매장'"
      ]
     },
     "execution_count": 12,
     "metadata": {},
     "output_type": "execute_result"
    }
   ],
   "source": [
    "# 특성 내용 출력하기\n",
    "cond5 = (text_file['cluster'] == 0)\n",
    "cond6 = (text_file['Store'] == '5센소커피충무로점')\n",
    "text_file[cond5&cond6]['cluster_labeling'][0]"
   ]
  },
  {
   "cell_type": "code",
   "execution_count": null,
   "metadata": {},
   "outputs": [],
   "source": [
    "# 거리정보 입력받아 추천하기\n",
    "lat1, lon1 = st.session_state.latlon # 사용자 위치\n",
    "lat2, lon2 = (37.517235, 127.047325) # 임시 빵집 위치\n",
    "\n",
    "distance = haversine(lat1, lon1, lat2, lon2)\n",
    "print(f\"두 지점 사이의 거리는 {distance}km 입니다.\")"
   ]
  },
  {
   "cell_type": "code",
   "execution_count": 63,
   "metadata": {},
   "outputs": [
    {
     "data": {
      "text/html": [
       "<div>\n",
       "<style scoped>\n",
       "    .dataframe tbody tr th:only-of-type {\n",
       "        vertical-align: middle;\n",
       "    }\n",
       "\n",
       "    .dataframe tbody tr th {\n",
       "        vertical-align: top;\n",
       "    }\n",
       "\n",
       "    .dataframe thead th {\n",
       "        text-align: right;\n",
       "    }\n",
       "</style>\n",
       "<table border=\"1\" class=\"dataframe\">\n",
       "  <thead>\n",
       "    <tr style=\"text-align: right;\">\n",
       "      <th></th>\n",
       "      <th>Y</th>\n",
       "      <th>X</th>\n",
       "    </tr>\n",
       "    <tr>\n",
       "      <th>Store</th>\n",
       "      <th></th>\n",
       "      <th></th>\n",
       "    </tr>\n",
       "  </thead>\n",
       "  <tbody>\n",
       "    <tr>\n",
       "      <th>5센소커피충무로점</th>\n",
       "      <td>37.562741</td>\n",
       "      <td>126.991228</td>\n",
       "    </tr>\n",
       "    <tr>\n",
       "      <th>79파운야드을지로3가점</th>\n",
       "      <td>37.565645</td>\n",
       "      <td>126.989468</td>\n",
       "    </tr>\n",
       "    <tr>\n",
       "      <th>AboutBagel</th>\n",
       "      <td>37.564582</td>\n",
       "      <td>126.983155</td>\n",
       "    </tr>\n",
       "    <tr>\n",
       "      <th>Cre8</th>\n",
       "      <td>37.567375</td>\n",
       "      <td>126.985245</td>\n",
       "    </tr>\n",
       "    <tr>\n",
       "      <th>ERICKAYSER</th>\n",
       "      <td>37.564656</td>\n",
       "      <td>126.978128</td>\n",
       "    </tr>\n",
       "    <tr>\n",
       "      <th>...</th>\n",
       "      <td>...</td>\n",
       "      <td>...</td>\n",
       "    </tr>\n",
       "    <tr>\n",
       "      <th>홍밀밀</th>\n",
       "      <td>37.563298</td>\n",
       "      <td>126.986829</td>\n",
       "    </tr>\n",
       "    <tr>\n",
       "      <th>화미가신세계백화점본점</th>\n",
       "      <td>37.560354</td>\n",
       "      <td>126.980768</td>\n",
       "    </tr>\n",
       "    <tr>\n",
       "      <th>화수분</th>\n",
       "      <td>127.009485</td>\n",
       "      <td>37.553381</td>\n",
       "    </tr>\n",
       "    <tr>\n",
       "      <th>화수분약수본점</th>\n",
       "      <td>37.553381</td>\n",
       "      <td>127.009485</td>\n",
       "    </tr>\n",
       "    <tr>\n",
       "      <th>황소쿠키</th>\n",
       "      <td>37.560416</td>\n",
       "      <td>126.966234</td>\n",
       "    </tr>\n",
       "  </tbody>\n",
       "</table>\n",
       "<p>179 rows × 2 columns</p>\n",
       "</div>"
      ],
      "text/plain": [
       "                       Y           X\n",
       "Store                               \n",
       "5센소커피충무로점      37.562741  126.991228\n",
       "79파운야드을지로3가점   37.565645  126.989468\n",
       "AboutBagel     37.564582  126.983155\n",
       "Cre8           37.567375  126.985245\n",
       "ERICKAYSER     37.564656  126.978128\n",
       "...                  ...         ...\n",
       "홍밀밀            37.563298  126.986829\n",
       "화미가신세계백화점본점    37.560354  126.980768\n",
       "화수분           127.009485   37.553381\n",
       "화수분약수본점        37.553381  127.009485\n",
       "황소쿠키           37.560416  126.966234\n",
       "\n",
       "[179 rows x 2 columns]"
      ]
     },
     "execution_count": 63,
     "metadata": {},
     "output_type": "execute_result"
    }
   ],
   "source": [
    "latlon2 = text_file[text_file['cluster']==1].groupby('Store').first()[['Y', 'X']]\n",
    "latlon2"
   ]
  },
  {
   "cell_type": "code",
   "execution_count": 64,
   "metadata": {},
   "outputs": [
    {
     "data": {
      "text/plain": [
       "'황소쿠키'"
      ]
     },
     "execution_count": 64,
     "metadata": {},
     "output_type": "execute_result"
    }
   ],
   "source": [
    "latlon2.index[178]"
   ]
  },
  {
   "cell_type": "code",
   "execution_count": 65,
   "metadata": {},
   "outputs": [
    {
     "data": {
      "text/plain": [
       "(37.5604164, 126.9662337)"
      ]
     },
     "execution_count": 65,
     "metadata": {},
     "output_type": "execute_result"
    }
   ],
   "source": [
    "tuple(latlon2.iloc[178])"
   ]
  },
  {
   "cell_type": "code",
   "execution_count": 74,
   "metadata": {},
   "outputs": [],
   "source": [
    "dis500 = []\n",
    "dis001 = []\n",
    "for i in range(len(latlon2)):\n",
    "    lat1, lon1 = (37.5604164, 126.9662337) # 사용자 위치 st.session_state.latlon\n",
    "    lat2, lon2 = tuple(latlon2.iloc[i]) # 빵집 위치\n",
    "    distance = haversine(lat1, lon1, lat2, lon2)\n",
    "    if distance <= 0.50:\n",
    "        dis500.append(latlon2.index[i])\n",
    "    if distance <= 1: # elif말고 if로 중복허용\n",
    "        dis001.append(latlon2.index[i])"
   ]
  },
  {
   "cell_type": "code",
   "execution_count": 90,
   "metadata": {},
   "outputs": [
    {
     "data": {
      "text/plain": [
       "['뀌숑', '이지바이충정로점', '해피해피브레드', '황소쿠키']"
      ]
     },
     "execution_count": 90,
     "metadata": {},
     "output_type": "execute_result"
    }
   ],
   "source": [
    "dis500"
   ]
  },
  {
   "cell_type": "code",
   "execution_count": 103,
   "metadata": {},
   "outputs": [
    {
     "data": {
      "text/plain": [
       "['해피해피브레드', '뀌숑', '황소쿠키', '이지바이충정로점']"
      ]
     },
     "execution_count": 103,
     "metadata": {},
     "output_type": "execute_result"
    }
   ],
   "source": [
    "import random\n",
    "\n",
    "# 리스트의 순서를 무작위로 섞기\n",
    "random.shuffle(dis500)\n",
    "dis500"
   ]
  },
  {
   "cell_type": "code",
   "execution_count": 111,
   "metadata": {},
   "outputs": [
    {
     "name": "stdout",
     "output_type": "stream",
     "text": [
      "0\n",
      "3\n",
      "6\n"
     ]
    }
   ],
   "source": [
    "for i in range(0, 9, 3):\n",
    "    print(i)"
   ]
  },
  {
   "cell_type": "code",
   "execution_count": 76,
   "metadata": {},
   "outputs": [
    {
     "data": {
      "text/plain": [
       "['가배도시청점',\n",
       " '뀌숑',\n",
       " '더하우스1932',\n",
       " '라운드앤드',\n",
       " '라운디드',\n",
       " '몬떼비서울서소문점',\n",
       " '북촌유기농밀명인단팥빵서울역점',\n",
       " '브릭샌드서울역점',\n",
       " '순화동빵집',\n",
       " '슈가플라이치즈케이크',\n",
       " '아우어베이커리숭례문점',\n",
       " '아이레커피',\n",
       " '아티제서울스퀘어',\n",
       " '얌얌브레드서울상공회의소점',\n",
       " '엘리스파이시청역점',\n",
       " '이지바이충정로점',\n",
       " '콜렉티보퍼시픽타워점',\n",
       " '태극당서울역광장점',\n",
       " '팀홀튼숭례문그랜드센트럴점',\n",
       " '해피해피브레드',\n",
       " '황소쿠키']"
      ]
     },
     "execution_count": 76,
     "metadata": {},
     "output_type": "execute_result"
    }
   ],
   "source": [
    "dis001"
   ]
  },
  {
   "cell_type": "code",
   "execution_count": 85,
   "metadata": {},
   "outputs": [
    {
     "name": "stdout",
     "output_type": "stream",
     "text": [
      "0\n",
      "3\n"
     ]
    }
   ],
   "source": [
    "for i in range(0, len(dis500), 3):\n",
    "    print(i)"
   ]
  },
  {
   "cell_type": "code",
   "execution_count": null,
   "metadata": {},
   "outputs": [],
   "source": [
    "# 엘리스파이, 화수분 경위도 바뀜."
   ]
  }
 ],
 "metadata": {
  "kernelspec": {
   "display_name": "Python 3",
   "language": "python",
   "name": "python3"
  },
  "language_info": {
   "codemirror_mode": {
    "name": "ipython",
    "version": 3
   },
   "file_extension": ".py",
   "mimetype": "text/x-python",
   "name": "python",
   "nbconvert_exporter": "python",
   "pygments_lexer": "ipython3",
   "version": "3.11.2"
  }
 },
 "nbformat": 4,
 "nbformat_minor": 2
}
